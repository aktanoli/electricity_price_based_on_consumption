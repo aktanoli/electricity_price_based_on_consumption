{
 "cells": [
  {
   "attachments": {},
   "cell_type": "markdown",
   "id": "17e2fa18",
   "metadata": {},
   "source": [
    "# Electricity Price Prediction"
   ]
  },
  {
   "cell_type": "code",
   "execution_count": 27,
   "id": "41525dbf",
   "metadata": {
    "_cell_guid": "b1076dfc-b9ad-4769-8c92-a6c4dae69d19",
    "_uuid": "8f2839f25d086af736a60e9eeb907d3b93b6e0e5",
    "execution": {
     "iopub.execute_input": "2023-02-09T12:29:52.364751Z",
     "iopub.status.busy": "2023-02-09T12:29:52.364276Z",
     "iopub.status.idle": "2023-02-09T12:29:52.384162Z",
     "shell.execute_reply": "2023-02-09T12:29:52.383228Z"
    },
    "papermill": {
     "duration": 0.032076,
     "end_time": "2023-02-09T12:29:52.387281",
     "exception": false,
     "start_time": "2023-02-09T12:29:52.355205",
     "status": "completed"
    },
    "tags": []
   },
   "outputs": [],
   "source": [
    "\n",
    "import numpy as np \n",
    "import pandas as pd \n",
    "import warnings\n",
    "warnings.filterwarnings(\"ignore\") \n"
   ]
  },
  {
   "cell_type": "code",
   "execution_count": 28,
   "id": "f121e846",
   "metadata": {
    "execution": {
     "iopub.execute_input": "2023-02-09T12:29:54.063025Z",
     "iopub.status.busy": "2023-02-09T12:29:54.062550Z",
     "iopub.status.idle": "2023-02-09T12:29:54.331854Z",
     "shell.execute_reply": "2023-02-09T12:29:54.330755Z"
    },
    "papermill": {
     "duration": 0.278962,
     "end_time": "2023-02-09T12:29:54.334342",
     "exception": false,
     "start_time": "2023-02-09T12:29:54.055380",
     "status": "completed"
    },
    "tags": []
   },
   "outputs": [
    {
     "data": {
      "text/html": [
       "<div>\n",
       "<style scoped>\n",
       "    .dataframe tbody tr th:only-of-type {\n",
       "        vertical-align: middle;\n",
       "    }\n",
       "\n",
       "    .dataframe tbody tr th {\n",
       "        vertical-align: top;\n",
       "    }\n",
       "\n",
       "    .dataframe thead th {\n",
       "        text-align: right;\n",
       "    }\n",
       "</style>\n",
       "<table border=\"1\" class=\"dataframe\">\n",
       "  <thead>\n",
       "    <tr style=\"text-align: right;\">\n",
       "      <th></th>\n",
       "      <th>DateTime</th>\n",
       "      <th>Holiday</th>\n",
       "      <th>HolidayFlag</th>\n",
       "      <th>DayOfWeek</th>\n",
       "      <th>WeekOfYear</th>\n",
       "      <th>Day</th>\n",
       "      <th>Month</th>\n",
       "      <th>Year</th>\n",
       "      <th>PeriodOfDay</th>\n",
       "      <th>ForecastWindProduction</th>\n",
       "      <th>SystemLoadEA</th>\n",
       "      <th>SMPEA</th>\n",
       "      <th>ORKTemperature</th>\n",
       "      <th>ORKWindspeed</th>\n",
       "      <th>CO2Intensity</th>\n",
       "      <th>ActualWindProduction</th>\n",
       "      <th>SystemLoadEP2</th>\n",
       "      <th>SMPEP2</th>\n",
       "    </tr>\n",
       "  </thead>\n",
       "  <tbody>\n",
       "    <tr>\n",
       "      <th>0</th>\n",
       "      <td>01/11/2011 00:00</td>\n",
       "      <td>None</td>\n",
       "      <td>0</td>\n",
       "      <td>1</td>\n",
       "      <td>44</td>\n",
       "      <td>1</td>\n",
       "      <td>11</td>\n",
       "      <td>2011</td>\n",
       "      <td>0</td>\n",
       "      <td>315.31</td>\n",
       "      <td>3388.77</td>\n",
       "      <td>49.26</td>\n",
       "      <td>6.00</td>\n",
       "      <td>9.30</td>\n",
       "      <td>600.71</td>\n",
       "      <td>356.00</td>\n",
       "      <td>3159.60</td>\n",
       "      <td>54.32</td>\n",
       "    </tr>\n",
       "    <tr>\n",
       "      <th>1</th>\n",
       "      <td>01/11/2011 00:30</td>\n",
       "      <td>None</td>\n",
       "      <td>0</td>\n",
       "      <td>1</td>\n",
       "      <td>44</td>\n",
       "      <td>1</td>\n",
       "      <td>11</td>\n",
       "      <td>2011</td>\n",
       "      <td>1</td>\n",
       "      <td>321.80</td>\n",
       "      <td>3196.66</td>\n",
       "      <td>49.26</td>\n",
       "      <td>6.00</td>\n",
       "      <td>11.10</td>\n",
       "      <td>605.42</td>\n",
       "      <td>317.00</td>\n",
       "      <td>2973.01</td>\n",
       "      <td>54.23</td>\n",
       "    </tr>\n",
       "    <tr>\n",
       "      <th>2</th>\n",
       "      <td>01/11/2011 01:00</td>\n",
       "      <td>None</td>\n",
       "      <td>0</td>\n",
       "      <td>1</td>\n",
       "      <td>44</td>\n",
       "      <td>1</td>\n",
       "      <td>11</td>\n",
       "      <td>2011</td>\n",
       "      <td>2</td>\n",
       "      <td>328.57</td>\n",
       "      <td>3060.71</td>\n",
       "      <td>49.10</td>\n",
       "      <td>5.00</td>\n",
       "      <td>11.10</td>\n",
       "      <td>589.97</td>\n",
       "      <td>311.00</td>\n",
       "      <td>2834.00</td>\n",
       "      <td>54.23</td>\n",
       "    </tr>\n",
       "    <tr>\n",
       "      <th>3</th>\n",
       "      <td>01/11/2011 01:30</td>\n",
       "      <td>None</td>\n",
       "      <td>0</td>\n",
       "      <td>1</td>\n",
       "      <td>44</td>\n",
       "      <td>1</td>\n",
       "      <td>11</td>\n",
       "      <td>2011</td>\n",
       "      <td>3</td>\n",
       "      <td>335.60</td>\n",
       "      <td>2945.56</td>\n",
       "      <td>48.04</td>\n",
       "      <td>6.00</td>\n",
       "      <td>9.30</td>\n",
       "      <td>585.94</td>\n",
       "      <td>313.00</td>\n",
       "      <td>2725.99</td>\n",
       "      <td>53.47</td>\n",
       "    </tr>\n",
       "    <tr>\n",
       "      <th>4</th>\n",
       "      <td>01/11/2011 02:00</td>\n",
       "      <td>None</td>\n",
       "      <td>0</td>\n",
       "      <td>1</td>\n",
       "      <td>44</td>\n",
       "      <td>1</td>\n",
       "      <td>11</td>\n",
       "      <td>2011</td>\n",
       "      <td>4</td>\n",
       "      <td>342.90</td>\n",
       "      <td>2849.34</td>\n",
       "      <td>33.75</td>\n",
       "      <td>6.00</td>\n",
       "      <td>11.10</td>\n",
       "      <td>571.52</td>\n",
       "      <td>346.00</td>\n",
       "      <td>2655.64</td>\n",
       "      <td>39.87</td>\n",
       "    </tr>\n",
       "  </tbody>\n",
       "</table>\n",
       "</div>"
      ],
      "text/plain": [
       "           DateTime Holiday  HolidayFlag  DayOfWeek  WeekOfYear  Day  Month  \\\n",
       "0  01/11/2011 00:00    None            0          1          44    1     11   \n",
       "1  01/11/2011 00:30    None            0          1          44    1     11   \n",
       "2  01/11/2011 01:00    None            0          1          44    1     11   \n",
       "3  01/11/2011 01:30    None            0          1          44    1     11   \n",
       "4  01/11/2011 02:00    None            0          1          44    1     11   \n",
       "\n",
       "   Year  PeriodOfDay ForecastWindProduction SystemLoadEA  SMPEA  \\\n",
       "0  2011            0                 315.31      3388.77  49.26   \n",
       "1  2011            1                 321.80      3196.66  49.26   \n",
       "2  2011            2                 328.57      3060.71  49.10   \n",
       "3  2011            3                 335.60      2945.56  48.04   \n",
       "4  2011            4                 342.90      2849.34  33.75   \n",
       "\n",
       "  ORKTemperature ORKWindspeed CO2Intensity ActualWindProduction SystemLoadEP2  \\\n",
       "0           6.00         9.30       600.71               356.00       3159.60   \n",
       "1           6.00        11.10       605.42               317.00       2973.01   \n",
       "2           5.00        11.10       589.97               311.00       2834.00   \n",
       "3           6.00         9.30       585.94               313.00       2725.99   \n",
       "4           6.00        11.10       571.52               346.00       2655.64   \n",
       "\n",
       "  SMPEP2  \n",
       "0  54.32  \n",
       "1  54.23  \n",
       "2  54.23  \n",
       "3  53.47  \n",
       "4  39.87  "
      ]
     },
     "execution_count": 28,
     "metadata": {},
     "output_type": "execute_result"
    }
   ],
   "source": [
    "df_elec=pd.read_csv(r\"Datasets/electricitydata.csv\", low_memory=False)\n",
    "df_elec.head()"
   ]
  },
  {
   "cell_type": "code",
   "execution_count": 29,
   "id": "fc640a57",
   "metadata": {
    "execution": {
     "iopub.execute_input": "2023-02-09T12:29:54.348918Z",
     "iopub.status.busy": "2023-02-09T12:29:54.348080Z",
     "iopub.status.idle": "2023-02-09T12:29:54.397182Z",
     "shell.execute_reply": "2023-02-09T12:29:54.395782Z"
    },
    "papermill": {
     "duration": 0.059048,
     "end_time": "2023-02-09T12:29:54.399665",
     "exception": false,
     "start_time": "2023-02-09T12:29:54.340617",
     "status": "completed"
    },
    "tags": []
   },
   "outputs": [
    {
     "name": "stdout",
     "output_type": "stream",
     "text": [
      "<class 'pandas.core.frame.DataFrame'>\n",
      "RangeIndex: 38014 entries, 0 to 38013\n",
      "Data columns (total 18 columns):\n",
      " #   Column                  Non-Null Count  Dtype \n",
      "---  ------                  --------------  ----- \n",
      " 0   DateTime                38014 non-null  object\n",
      " 1   Holiday                 38014 non-null  object\n",
      " 2   HolidayFlag             38014 non-null  int64 \n",
      " 3   DayOfWeek               38014 non-null  int64 \n",
      " 4   WeekOfYear              38014 non-null  int64 \n",
      " 5   Day                     38014 non-null  int64 \n",
      " 6   Month                   38014 non-null  int64 \n",
      " 7   Year                    38014 non-null  int64 \n",
      " 8   PeriodOfDay             38014 non-null  int64 \n",
      " 9   ForecastWindProduction  38014 non-null  object\n",
      " 10  SystemLoadEA            38014 non-null  object\n",
      " 11  SMPEA                   38014 non-null  object\n",
      " 12  ORKTemperature          38014 non-null  object\n",
      " 13  ORKWindspeed            38014 non-null  object\n",
      " 14  CO2Intensity            38014 non-null  object\n",
      " 15  ActualWindProduction    38014 non-null  object\n",
      " 16  SystemLoadEP2           38014 non-null  object\n",
      " 17  SMPEP2                  38014 non-null  object\n",
      "dtypes: int64(7), object(11)\n",
      "memory usage: 5.2+ MB\n"
     ]
    }
   ],
   "source": [
    "df_elec.info()"
   ]
  },
  {
   "cell_type": "code",
   "execution_count": 30,
   "id": "d0534e3e",
   "metadata": {
    "execution": {
     "iopub.execute_input": "2023-02-09T12:29:54.414776Z",
     "iopub.status.busy": "2023-02-09T12:29:54.413823Z",
     "iopub.status.idle": "2023-02-09T12:29:54.422977Z",
     "shell.execute_reply": "2023-02-09T12:29:54.422026Z"
    },
    "papermill": {
     "duration": 0.019217,
     "end_time": "2023-02-09T12:29:54.425374",
     "exception": false,
     "start_time": "2023-02-09T12:29:54.406157",
     "status": "completed"
    },
    "tags": []
   },
   "outputs": [],
   "source": [
    "elec_data=df_elec[['ForecastWindProduction',\n",
    "       'SystemLoadEA', 'SMPEA', 'ORKTemperature', 'ORKWindspeed',\n",
    "       'CO2Intensity', 'ActualWindProduction', 'SystemLoadEP2', 'SMPEP2']]"
   ]
  },
  {
   "cell_type": "code",
   "execution_count": 31,
   "id": "19c6ba29",
   "metadata": {
    "execution": {
     "iopub.execute_input": "2023-02-09T12:29:54.439586Z",
     "iopub.status.busy": "2023-02-09T12:29:54.439220Z",
     "iopub.status.idle": "2023-02-09T12:29:54.477048Z",
     "shell.execute_reply": "2023-02-09T12:29:54.475925Z"
    },
    "papermill": {
     "duration": 0.047668,
     "end_time": "2023-02-09T12:29:54.479461",
     "exception": false,
     "start_time": "2023-02-09T12:29:54.431793",
     "status": "completed"
    },
    "tags": []
   },
   "outputs": [
    {
     "data": {
      "text/plain": [
       "ForecastWindProduction    True\n",
       "SystemLoadEA              True\n",
       "SMPEA                     True\n",
       "ORKTemperature            True\n",
       "ORKWindspeed              True\n",
       "CO2Intensity              True\n",
       "ActualWindProduction      True\n",
       "SystemLoadEP2             True\n",
       "SMPEP2                    True\n",
       "dtype: bool"
      ]
     },
     "execution_count": 31,
     "metadata": {},
     "output_type": "execute_result"
    }
   ],
   "source": [
    "elec_data.isin(['?']).any()"
   ]
  },
  {
   "cell_type": "code",
   "execution_count": 32,
   "id": "9e595abb",
   "metadata": {
    "execution": {
     "iopub.execute_input": "2023-02-09T12:29:54.494097Z",
     "iopub.status.busy": "2023-02-09T12:29:54.493703Z",
     "iopub.status.idle": "2023-02-09T12:29:54.594072Z",
     "shell.execute_reply": "2023-02-09T12:29:54.593120Z"
    },
    "jupyter": {
     "outputs_hidden": true
    },
    "papermill": {
     "duration": 0.11058,
     "end_time": "2023-02-09T12:29:54.596462",
     "exception": false,
     "start_time": "2023-02-09T12:29:54.485882",
     "status": "completed"
    },
    "tags": []
   },
   "outputs": [],
   "source": [
    "for col in elec_data.columns:\n",
    "    elec_data.drop(elec_data.index[elec_data[col] == '?'], inplace=True)"
   ]
  },
  {
   "cell_type": "code",
   "execution_count": 33,
   "id": "0751d74a",
   "metadata": {
    "execution": {
     "iopub.execute_input": "2023-02-09T12:29:54.611982Z",
     "iopub.status.busy": "2023-02-09T12:29:54.611117Z",
     "iopub.status.idle": "2023-02-09T12:29:54.723446Z",
     "shell.execute_reply": "2023-02-09T12:29:54.722315Z"
    },
    "papermill": {
     "duration": 0.122857,
     "end_time": "2023-02-09T12:29:54.726071",
     "exception": false,
     "start_time": "2023-02-09T12:29:54.603214",
     "status": "completed"
    },
    "tags": []
   },
   "outputs": [],
   "source": [
    "elec_data=elec_data.apply(pd.to_numeric)\n",
    "elec_data=elec_data.reset_index()\n",
    "elec_data.drop('index', axis=1, inplace=True)"
   ]
  },
  {
   "cell_type": "code",
   "execution_count": 34,
   "id": "1e3996dc",
   "metadata": {},
   "outputs": [
    {
     "name": "stdout",
     "output_type": "stream",
     "text": [
      "<class 'pandas.core.frame.DataFrame'>\n",
      "RangeIndex: 37682 entries, 0 to 37681\n",
      "Data columns (total 9 columns):\n",
      " #   Column                  Non-Null Count  Dtype  \n",
      "---  ------                  --------------  -----  \n",
      " 0   ForecastWindProduction  37682 non-null  float64\n",
      " 1   SystemLoadEA            37682 non-null  float64\n",
      " 2   SMPEA                   37682 non-null  float64\n",
      " 3   ORKTemperature          37682 non-null  float64\n",
      " 4   ORKWindspeed            37682 non-null  float64\n",
      " 5   CO2Intensity            37682 non-null  float64\n",
      " 6   ActualWindProduction    37682 non-null  float64\n",
      " 7   SystemLoadEP2           37682 non-null  float64\n",
      " 8   SMPEP2                  37682 non-null  float64\n",
      "dtypes: float64(9)\n",
      "memory usage: 2.6 MB\n"
     ]
    }
   ],
   "source": [
    "elec_data.info()"
   ]
  },
  {
   "cell_type": "code",
   "execution_count": 35,
   "id": "c87eb299",
   "metadata": {},
   "outputs": [],
   "source": [
    "elec_data['SMPEP2'] = elec_data['SMPEP2'].apply(np.int64)"
   ]
  },
  {
   "cell_type": "code",
   "execution_count": 36,
   "id": "610427fb",
   "metadata": {
    "execution": {
     "iopub.execute_input": "2023-02-09T12:29:54.772992Z",
     "iopub.status.busy": "2023-02-09T12:29:54.772585Z",
     "iopub.status.idle": "2023-02-09T12:29:54.793411Z",
     "shell.execute_reply": "2023-02-09T12:29:54.792030Z"
    },
    "papermill": {
     "duration": 0.031546,
     "end_time": "2023-02-09T12:29:54.796091",
     "exception": false,
     "start_time": "2023-02-09T12:29:54.764545",
     "status": "completed"
    },
    "tags": []
   },
   "outputs": [
    {
     "data": {
      "text/plain": [
       "SMPEP2                    1.000000\n",
       "SMPEA                     0.618230\n",
       "SystemLoadEP2             0.517028\n",
       "SystemLoadEA              0.491064\n",
       "ActualWindProduction      0.083280\n",
       "ForecastWindProduction    0.079428\n",
       "CO2Intensity              0.035239\n",
       "ORKWindspeed              0.035237\n",
       "ORKTemperature            0.008940\n",
       "dtype: float64"
      ]
     },
     "execution_count": 36,
     "metadata": {},
     "output_type": "execute_result"
    }
   ],
   "source": [
    "elec_data.corrwith(elec_data['SMPEP2']).abs().sort_values(ascending=False)"
   ]
  },
  {
   "cell_type": "code",
   "execution_count": 37,
   "id": "cd226448",
   "metadata": {
    "execution": {
     "iopub.execute_input": "2023-02-09T12:29:54.813120Z",
     "iopub.status.busy": "2023-02-09T12:29:54.811978Z",
     "iopub.status.idle": "2023-02-09T12:29:54.819814Z",
     "shell.execute_reply": "2023-02-09T12:29:54.818953Z"
    },
    "papermill": {
     "duration": 0.017891,
     "end_time": "2023-02-09T12:29:54.822024",
     "exception": false,
     "start_time": "2023-02-09T12:29:54.804133",
     "status": "completed"
    },
    "tags": []
   },
   "outputs": [],
   "source": [
    "X=elec_data.drop('SMPEP2', axis=1)\n",
    "y=elec_data['SMPEP2']"
   ]
  },
  {
   "attachments": {},
   "cell_type": "markdown",
   "id": "3a892cc6",
   "metadata": {
    "papermill": {
     "duration": 0.006419,
     "end_time": "2023-02-09T12:29:54.835171",
     "exception": false,
     "start_time": "2023-02-09T12:29:54.828752",
     "status": "completed"
    },
    "tags": []
   },
   "source": [
    "To Machine Learning"
   ]
  },
  {
   "cell_type": "code",
   "execution_count": 38,
   "id": "c8833b5f",
   "metadata": {
    "execution": {
     "iopub.execute_input": "2023-02-09T12:29:54.850282Z",
     "iopub.status.busy": "2023-02-09T12:29:54.849633Z",
     "iopub.status.idle": "2023-02-09T12:29:54.861253Z",
     "shell.execute_reply": "2023-02-09T12:29:54.860305Z"
    },
    "papermill": {
     "duration": 0.021994,
     "end_time": "2023-02-09T12:29:54.863788",
     "exception": false,
     "start_time": "2023-02-09T12:29:54.841794",
     "status": "completed"
    },
    "tags": []
   },
   "outputs": [],
   "source": [
    "from sklearn.model_selection import train_test_split\n",
    "x_train, x_test, y_train, y_test=train_test_split(X,y, test_size=0.2, random_state=42)"
   ]
  },
  {
   "cell_type": "code",
   "execution_count": 39,
   "id": "046faa7e",
   "metadata": {},
   "outputs": [],
   "source": [
    "from numpy import mean\n",
    "from numpy import std\n",
    "from numpy import absolute\n",
    "from sklearn.model_selection import cross_val_score\n",
    "from sklearn.model_selection import RepeatedKFold\n",
    "from sklearn.metrics import classification_report, accuracy_score,confusion_matrix"
   ]
  },
  {
   "attachments": {},
   "cell_type": "markdown",
   "id": "02416e9f",
   "metadata": {},
   "source": [
    "#### Decision Tree Classifier with 10 fold cross validation"
   ]
  },
  {
   "cell_type": "code",
   "execution_count": 40,
   "id": "60fc5bb8",
   "metadata": {},
   "outputs": [
    {
     "name": "stdout",
     "output_type": "stream",
     "text": [
      "Mean MAE: 16.718 (0.532)\n"
     ]
    }
   ],
   "source": [
    "# define model for Decision Tree\n",
    "from sklearn.tree import DecisionTreeClassifier \n",
    "dtc = DecisionTreeClassifier(max_depth = 2, \n",
    "                             random_state = 0)\n",
    "#evaluation method\n",
    "cv = RepeatedKFold(n_splits=10, n_repeats=3, random_state=1)\n",
    "# evaluate model\n",
    "scores_E = cross_val_score(dtc, x_train, y_train, scoring='neg_mean_absolute_error', cv=cv, n_jobs=-1)\n",
    "scores_E = absolute(scores_E)\n",
    "print('Mean MAE: %.3f (%.3f)' % (mean(scores_E), std(scores_E)))\n"
   ]
  },
  {
   "cell_type": "code",
   "execution_count": 41,
   "id": "5a0155ac",
   "metadata": {},
   "outputs": [
    {
     "data": {
      "text/html": [
       "<style>#sk-container-id-1 {color: black;background-color: white;}#sk-container-id-1 pre{padding: 0;}#sk-container-id-1 div.sk-toggleable {background-color: white;}#sk-container-id-1 label.sk-toggleable__label {cursor: pointer;display: block;width: 100%;margin-bottom: 0;padding: 0.3em;box-sizing: border-box;text-align: center;}#sk-container-id-1 label.sk-toggleable__label-arrow:before {content: \"▸\";float: left;margin-right: 0.25em;color: #696969;}#sk-container-id-1 label.sk-toggleable__label-arrow:hover:before {color: black;}#sk-container-id-1 div.sk-estimator:hover label.sk-toggleable__label-arrow:before {color: black;}#sk-container-id-1 div.sk-toggleable__content {max-height: 0;max-width: 0;overflow: hidden;text-align: left;background-color: #f0f8ff;}#sk-container-id-1 div.sk-toggleable__content pre {margin: 0.2em;color: black;border-radius: 0.25em;background-color: #f0f8ff;}#sk-container-id-1 input.sk-toggleable__control:checked~div.sk-toggleable__content {max-height: 200px;max-width: 100%;overflow: auto;}#sk-container-id-1 input.sk-toggleable__control:checked~label.sk-toggleable__label-arrow:before {content: \"▾\";}#sk-container-id-1 div.sk-estimator input.sk-toggleable__control:checked~label.sk-toggleable__label {background-color: #d4ebff;}#sk-container-id-1 div.sk-label input.sk-toggleable__control:checked~label.sk-toggleable__label {background-color: #d4ebff;}#sk-container-id-1 input.sk-hidden--visually {border: 0;clip: rect(1px 1px 1px 1px);clip: rect(1px, 1px, 1px, 1px);height: 1px;margin: -1px;overflow: hidden;padding: 0;position: absolute;width: 1px;}#sk-container-id-1 div.sk-estimator {font-family: monospace;background-color: #f0f8ff;border: 1px dotted black;border-radius: 0.25em;box-sizing: border-box;margin-bottom: 0.5em;}#sk-container-id-1 div.sk-estimator:hover {background-color: #d4ebff;}#sk-container-id-1 div.sk-parallel-item::after {content: \"\";width: 100%;border-bottom: 1px solid gray;flex-grow: 1;}#sk-container-id-1 div.sk-label:hover label.sk-toggleable__label {background-color: #d4ebff;}#sk-container-id-1 div.sk-serial::before {content: \"\";position: absolute;border-left: 1px solid gray;box-sizing: border-box;top: 0;bottom: 0;left: 50%;z-index: 0;}#sk-container-id-1 div.sk-serial {display: flex;flex-direction: column;align-items: center;background-color: white;padding-right: 0.2em;padding-left: 0.2em;position: relative;}#sk-container-id-1 div.sk-item {position: relative;z-index: 1;}#sk-container-id-1 div.sk-parallel {display: flex;align-items: stretch;justify-content: center;background-color: white;position: relative;}#sk-container-id-1 div.sk-item::before, #sk-container-id-1 div.sk-parallel-item::before {content: \"\";position: absolute;border-left: 1px solid gray;box-sizing: border-box;top: 0;bottom: 0;left: 50%;z-index: -1;}#sk-container-id-1 div.sk-parallel-item {display: flex;flex-direction: column;z-index: 1;position: relative;background-color: white;}#sk-container-id-1 div.sk-parallel-item:first-child::after {align-self: flex-end;width: 50%;}#sk-container-id-1 div.sk-parallel-item:last-child::after {align-self: flex-start;width: 50%;}#sk-container-id-1 div.sk-parallel-item:only-child::after {width: 0;}#sk-container-id-1 div.sk-dashed-wrapped {border: 1px dashed gray;margin: 0 0.4em 0.5em 0.4em;box-sizing: border-box;padding-bottom: 0.4em;background-color: white;}#sk-container-id-1 div.sk-label label {font-family: monospace;font-weight: bold;display: inline-block;line-height: 1.2em;}#sk-container-id-1 div.sk-label-container {text-align: center;}#sk-container-id-1 div.sk-container {/* jupyter's `normalize.less` sets `[hidden] { display: none; }` but bootstrap.min.css set `[hidden] { display: none !important; }` so we also need the `!important` here to be able to override the default hidden behavior on the sphinx rendered scikit-learn.org. See: https://github.com/scikit-learn/scikit-learn/issues/21755 */display: inline-block !important;position: relative;}#sk-container-id-1 div.sk-text-repr-fallback {display: none;}</style><div id=\"sk-container-id-1\" class=\"sk-top-container\"><div class=\"sk-text-repr-fallback\"><pre>DecisionTreeClassifier(max_depth=2, random_state=0)</pre><b>In a Jupyter environment, please rerun this cell to show the HTML representation or trust the notebook. <br />On GitHub, the HTML representation is unable to render, please try loading this page with nbviewer.org.</b></div><div class=\"sk-container\" hidden><div class=\"sk-item\"><div class=\"sk-estimator sk-toggleable\"><input class=\"sk-toggleable__control sk-hidden--visually\" id=\"sk-estimator-id-1\" type=\"checkbox\" checked><label for=\"sk-estimator-id-1\" class=\"sk-toggleable__label sk-toggleable__label-arrow\">DecisionTreeClassifier</label><div class=\"sk-toggleable__content\"><pre>DecisionTreeClassifier(max_depth=2, random_state=0)</pre></div></div></div></div></div>"
      ],
      "text/plain": [
       "DecisionTreeClassifier(max_depth=2, random_state=0)"
      ]
     },
     "execution_count": 41,
     "metadata": {},
     "output_type": "execute_result"
    }
   ],
   "source": [
    "dtc.fit(x_train, y_train)\n"
   ]
  },
  {
   "cell_type": "code",
   "execution_count": 42,
   "id": "cfcfe009",
   "metadata": {},
   "outputs": [
    {
     "name": "stdout",
     "output_type": "stream",
     "text": [
      "Accuracy Score of Decision Tree is : 0.049621865463712354\n",
      "Classification Report : \n",
      "              precision    recall  f1-score   support\n",
      "\n",
      "           0       0.00      0.00      0.00         4\n",
      "           1       0.00      0.00      0.00         3\n",
      "           5       0.00      0.00      0.00         5\n",
      "           8       0.00      0.00      0.00         1\n",
      "          12       0.00      0.00      0.00         1\n",
      "          13       0.00      0.00      0.00         1\n",
      "          18       0.00      0.00      0.00         5\n",
      "          19       0.00      0.00      0.00         3\n",
      "          20       0.00      0.00      0.00         5\n",
      "          21       0.00      0.00      0.00         1\n",
      "          22       0.00      0.00      0.00         2\n",
      "          23       0.00      0.00      0.00        11\n",
      "          24       0.00      0.00      0.00        11\n",
      "          25       0.00      0.00      0.00        28\n",
      "          26       0.00      0.00      0.00        19\n",
      "          27       0.00      0.00      0.00        33\n",
      "          28       0.00      0.00      0.00        33\n",
      "          29       0.00      0.00      0.00        39\n",
      "          30       0.00      0.00      0.00        41\n",
      "          31       0.00      0.00      0.00        49\n",
      "          32       0.00      0.00      0.00        77\n",
      "          33       0.00      0.00      0.00        76\n",
      "          34       0.00      0.00      0.00        85\n",
      "          35       0.00      0.00      0.00        71\n",
      "          36       0.00      0.00      0.00        79\n",
      "          37       0.00      0.00      0.00       114\n",
      "          38       0.00      0.00      0.00       115\n",
      "          39       0.07      0.70      0.12       129\n",
      "          40       0.00      0.00      0.00       113\n",
      "          41       0.00      0.00      0.00       127\n",
      "          42       0.00      0.00      0.00       162\n",
      "          43       0.00      0.00      0.00       146\n",
      "          44       0.10      0.42      0.17       179\n",
      "          45       0.00      0.00      0.00       156\n",
      "          46       0.00      0.00      0.00       219\n",
      "          47       0.00      0.00      0.00       219\n",
      "          48       0.00      0.00      0.00       207\n",
      "          49       0.06      0.39      0.11       247\n",
      "          50       0.00      0.00      0.00       181\n",
      "          51       0.00      0.00      0.00       185\n",
      "          52       0.00      0.00      0.00       188\n",
      "          53       0.00      0.00      0.00       174\n",
      "          54       0.00      0.00      0.00       143\n",
      "          55       0.00      0.00      0.00       146\n",
      "          56       0.00      0.00      0.00       151\n",
      "          57       0.00      0.00      0.00       136\n",
      "          58       0.00      0.00      0.00       129\n",
      "          59       0.03      0.76      0.05       149\n",
      "          60       0.00      0.00      0.00       124\n",
      "          61       0.00      0.00      0.00       132\n",
      "          62       0.00      0.00      0.00       119\n",
      "          63       0.00      0.00      0.00        86\n",
      "          64       0.00      0.00      0.00       114\n",
      "          65       0.00      0.00      0.00       116\n",
      "          66       0.00      0.00      0.00       114\n",
      "          67       0.00      0.00      0.00       105\n",
      "          68       0.00      0.00      0.00       102\n",
      "          69       0.00      0.00      0.00        86\n",
      "          70       0.00      0.00      0.00        88\n",
      "          71       0.00      0.00      0.00        78\n",
      "          72       0.00      0.00      0.00        67\n",
      "          73       0.00      0.00      0.00        95\n",
      "          74       0.00      0.00      0.00        74\n",
      "          75       0.00      0.00      0.00        69\n",
      "          76       0.00      0.00      0.00        66\n",
      "          77       0.00      0.00      0.00        74\n",
      "          78       0.00      0.00      0.00        68\n",
      "          79       0.00      0.00      0.00        50\n",
      "          80       0.00      0.00      0.00        39\n",
      "          81       0.00      0.00      0.00        47\n",
      "          82       0.00      0.00      0.00        38\n",
      "          83       0.00      0.00      0.00        44\n",
      "          84       0.00      0.00      0.00        41\n",
      "          85       0.00      0.00      0.00        39\n",
      "          86       0.00      0.00      0.00        20\n",
      "          87       0.00      0.00      0.00        35\n",
      "          88       0.00      0.00      0.00        46\n",
      "          89       0.00      0.00      0.00        27\n",
      "          90       0.00      0.00      0.00        19\n",
      "          91       0.00      0.00      0.00        27\n",
      "          92       0.00      0.00      0.00        33\n",
      "          93       0.00      0.00      0.00        45\n",
      "          94       0.00      0.00      0.00        16\n",
      "          95       0.00      0.00      0.00        24\n",
      "          96       0.00      0.00      0.00        24\n",
      "          97       0.00      0.00      0.00        30\n",
      "          98       0.00      0.00      0.00        25\n",
      "          99       0.00      0.00      0.00        17\n",
      "         100       0.00      0.00      0.00        36\n",
      "         101       0.00      0.00      0.00        25\n",
      "         102       0.00      0.00      0.00        20\n",
      "         103       0.00      0.00      0.00        13\n",
      "         104       0.00      0.00      0.00        13\n",
      "         105       0.00      0.00      0.00        24\n",
      "         106       0.00      0.00      0.00        19\n",
      "         107       0.00      0.00      0.00        14\n",
      "         108       0.00      0.00      0.00        20\n",
      "         109       0.00      0.00      0.00         7\n",
      "         110       0.00      0.00      0.00        26\n",
      "         111       0.00      0.00      0.00         8\n",
      "         112       0.00      0.00      0.00        11\n",
      "         113       0.00      0.00      0.00        12\n",
      "         114       0.00      0.00      0.00         6\n",
      "         115       0.00      0.00      0.00        14\n",
      "         116       0.00      0.00      0.00        16\n",
      "         117       0.00      0.00      0.00         8\n",
      "         118       0.00      0.00      0.00         4\n",
      "         119       0.00      0.00      0.00        13\n",
      "         120       0.00      0.00      0.00        14\n",
      "         121       0.00      0.00      0.00         9\n",
      "         122       0.00      0.00      0.00         8\n",
      "         123       0.00      0.00      0.00        12\n",
      "         124       0.00      0.00      0.00         4\n",
      "         125       0.00      0.00      0.00        12\n",
      "         126       0.00      0.00      0.00         4\n",
      "         127       0.00      0.00      0.00         5\n",
      "         128       0.00      0.00      0.00         6\n",
      "         129       0.00      0.00      0.00        11\n",
      "         130       0.00      0.00      0.00         8\n",
      "         131       0.00      0.00      0.00         4\n",
      "         132       0.00      0.00      0.00         6\n",
      "         133       0.00      0.00      0.00         5\n",
      "         134       0.00      0.00      0.00         6\n",
      "         135       0.00      0.00      0.00        10\n",
      "         136       0.00      0.00      0.00         3\n",
      "         137       0.00      0.00      0.00         5\n",
      "         138       0.00      0.00      0.00         9\n",
      "         139       0.00      0.00      0.00         4\n",
      "         140       0.00      0.00      0.00         5\n",
      "         141       0.00      0.00      0.00        12\n",
      "         142       0.00      0.00      0.00         5\n",
      "         143       0.00      0.00      0.00         3\n",
      "         144       0.00      0.00      0.00         2\n",
      "         145       0.00      0.00      0.00         3\n",
      "         146       0.00      0.00      0.00         3\n",
      "         147       0.00      0.00      0.00         1\n",
      "         148       0.00      0.00      0.00         1\n",
      "         149       0.00      0.00      0.00         2\n",
      "         150       0.00      0.00      0.00         4\n",
      "         151       0.00      0.00      0.00         3\n",
      "         152       0.00      0.00      0.00         3\n",
      "         153       0.00      0.00      0.00         6\n",
      "         154       0.00      0.00      0.00         6\n",
      "         156       0.00      0.00      0.00         3\n",
      "         157       0.00      0.00      0.00         1\n",
      "         158       0.00      0.00      0.00         2\n",
      "         159       0.00      0.00      0.00         4\n",
      "         160       0.00      0.00      0.00         4\n",
      "         161       0.00      0.00      0.00         2\n",
      "         162       0.00      0.00      0.00         2\n",
      "         163       0.00      0.00      0.00         3\n",
      "         164       0.00      0.00      0.00         5\n",
      "         166       0.00      0.00      0.00         6\n",
      "         167       0.00      0.00      0.00         2\n",
      "         168       0.00      0.00      0.00         4\n",
      "         169       0.00      0.00      0.00         7\n",
      "         170       0.00      0.00      0.00         4\n",
      "         171       0.00      0.00      0.00         2\n",
      "         172       0.00      0.00      0.00         2\n",
      "         173       0.00      0.00      0.00         3\n",
      "         174       0.00      0.00      0.00         1\n",
      "         176       0.00      0.00      0.00         2\n",
      "         177       0.00      0.00      0.00         2\n",
      "         178       0.00      0.00      0.00         2\n",
      "         179       0.00      0.00      0.00         1\n",
      "         180       0.00      0.00      0.00         1\n",
      "         181       0.00      0.00      0.00         2\n",
      "         182       0.00      0.00      0.00         3\n",
      "         183       0.00      0.00      0.00         1\n",
      "         184       0.00      0.00      0.00         3\n",
      "         186       0.00      0.00      0.00         3\n",
      "         187       0.00      0.00      0.00         1\n",
      "         188       0.00      0.00      0.00         1\n",
      "         189       0.00      0.00      0.00         2\n",
      "         190       0.00      0.00      0.00         1\n",
      "         193       0.00      0.00      0.00         1\n",
      "         194       0.00      0.00      0.00         4\n",
      "         195       0.00      0.00      0.00         2\n",
      "         197       0.00      0.00      0.00         1\n",
      "         198       0.00      0.00      0.00         2\n",
      "         199       0.00      0.00      0.00         1\n",
      "         201       0.00      0.00      0.00         2\n",
      "         202       0.00      0.00      0.00         1\n",
      "         204       0.00      0.00      0.00         1\n",
      "         205       0.00      0.00      0.00         2\n",
      "         206       0.00      0.00      0.00         2\n",
      "         207       0.00      0.00      0.00         1\n",
      "         208       0.00      0.00      0.00         1\n",
      "         209       0.00      0.00      0.00         1\n",
      "         211       0.00      0.00      0.00         1\n",
      "         215       0.00      0.00      0.00         1\n",
      "         220       0.00      0.00      0.00         2\n",
      "         221       0.00      0.00      0.00         1\n",
      "         228       0.00      0.00      0.00         1\n",
      "         230       0.00      0.00      0.00         1\n",
      "         235       0.00      0.00      0.00         3\n",
      "         236       0.00      0.00      0.00         1\n",
      "         237       0.00      0.00      0.00         2\n",
      "         241       0.00      0.00      0.00         1\n",
      "         243       0.00      0.00      0.00         1\n",
      "         244       0.00      0.00      0.00         2\n",
      "         245       0.00      0.00      0.00         1\n",
      "         246       0.00      0.00      0.00         2\n",
      "         248       0.00      0.00      0.00         1\n",
      "         249       0.00      0.00      0.00         1\n",
      "         253       0.00      0.00      0.00         1\n",
      "         255       0.00      0.00      0.00         1\n",
      "         256       0.00      0.00      0.00         2\n",
      "         264       0.00      0.00      0.00         1\n",
      "         265       0.00      0.00      0.00         1\n",
      "         266       0.00      0.00      0.00         1\n",
      "         281       0.00      0.00      0.00         1\n",
      "         284       0.00      0.00      0.00         1\n",
      "         287       0.00      0.00      0.00         2\n",
      "         288       0.00      0.00      0.00         1\n",
      "         289       0.00      0.00      0.00         1\n",
      "         291       0.00      0.00      0.00         2\n",
      "         294       0.00      0.00      0.00         1\n",
      "         301       0.00      0.00      0.00         1\n",
      "         306       0.00      0.00      0.00         2\n",
      "         311       0.00      0.00      0.00         1\n",
      "         325       0.00      0.00      0.00         2\n",
      "         330       0.00      0.00      0.00         1\n",
      "         332       0.00      0.00      0.00         2\n",
      "         334       0.00      0.00      0.00         1\n",
      "         363       0.00      0.00      0.00         1\n",
      "         371       0.00      0.00      0.00         1\n",
      "         395       0.00      0.00      0.00         1\n",
      "         415       0.00      0.00      0.00         1\n",
      "         432       0.00      0.00      0.00         1\n",
      "         448       0.00      0.00      0.00         1\n",
      "         453       0.00      0.00      0.00         1\n",
      "         517       0.00      0.00      0.00         1\n",
      "         590       0.00      0.00      0.00         1\n",
      "         603       0.00      0.00      0.00         1\n",
      "        1000       0.00      0.00      0.00         1\n",
      "\n",
      "    accuracy                           0.05      7537\n",
      "   macro avg       0.00      0.01      0.00      7537\n",
      "weighted avg       0.01      0.05      0.01      7537\n",
      "\n"
     ]
    }
   ],
   "source": [
    "dt_pred = dtc.predict(x_test)\n",
    "dt_acc = accuracy_score(y_test, dt_pred)\n",
    "print(f\"Accuracy Score of Decision Tree is : {dt_acc}\")\n",
    "clf_report = classification_report(y_test, dt_pred)\n",
    "print(f\"Classification Report : \\n{clf_report}\")\n"
   ]
  },
  {
   "attachments": {},
   "cell_type": "markdown",
   "id": "ed07e2ea",
   "metadata": {
    "papermill": {
     "duration": 0.006786,
     "end_time": "2023-02-09T12:30:19.255228",
     "exception": false,
     "start_time": "2023-02-09T12:30:19.248442",
     "status": "completed"
    },
    "tags": []
   },
   "source": [
    "#### Support Vector Machine with 10 fold cross validation"
   ]
  },
  {
   "cell_type": "code",
   "execution_count": 43,
   "id": "efa50b58",
   "metadata": {},
   "outputs": [
    {
     "name": "stdout",
     "output_type": "stream",
     "text": [
      "Mean MAE: 19.552 (0.588)\n"
     ]
    }
   ],
   "source": [
    "# define model for Decision Tree\n",
    "from sklearn.svm import SVC\n",
    "svm = SVC()\n",
    "# define model evaluation method\n",
    "cv = RepeatedKFold(n_splits=10, n_repeats=3, random_state=1)\n",
    "# evaluate model\n",
    "scores_e = cross_val_score(svm, x_train, y_train, scoring='neg_mean_absolute_error', cv=cv, n_jobs=-1)\n",
    "# force scores to be positive\n",
    "scores_e = absolute(scores_e)\n",
    "print('Mean MAE: %.3f (%.3f)' % (mean(scores_e), std(scores_e)))"
   ]
  },
  {
   "cell_type": "code",
   "execution_count": 44,
   "id": "46f228c8",
   "metadata": {},
   "outputs": [],
   "source": [
    "svm.fit(x_train, y_train)\n",
    "y_pred_svm = svm.predict(x_test)"
   ]
  },
  {
   "cell_type": "code",
   "execution_count": 45,
   "id": "6bf2fc07",
   "metadata": {},
   "outputs": [
    {
     "name": "stdout",
     "output_type": "stream",
     "text": [
      "Accuracy Score of SVM is : 0.04524346556985538\n",
      "Classification Report : \n",
      "              precision    recall  f1-score   support\n",
      "\n",
      "           0       0.00      0.00      0.00         4\n",
      "           1       0.00      0.00      0.00         3\n",
      "           5       0.00      0.00      0.00         5\n",
      "           8       0.00      0.00      0.00         1\n",
      "          12       0.00      0.00      0.00         1\n",
      "          13       0.00      0.00      0.00         1\n",
      "          18       0.00      0.00      0.00         5\n",
      "          19       0.00      0.00      0.00         3\n",
      "          20       0.00      0.00      0.00         5\n",
      "          21       0.00      0.00      0.00         1\n",
      "          22       0.00      0.00      0.00         2\n",
      "          23       0.00      0.00      0.00        11\n",
      "          24       0.00      0.00      0.00        11\n",
      "          25       0.00      0.00      0.00        28\n",
      "          26       0.00      0.00      0.00        19\n",
      "          27       0.00      0.00      0.00        33\n",
      "          28       0.00      0.00      0.00        33\n",
      "          29       0.00      0.00      0.00        39\n",
      "          30       0.00      0.00      0.00        41\n",
      "          31       0.00      0.00      0.00        49\n",
      "          32       0.00      0.00      0.00        77\n",
      "          33       0.00      0.00      0.00        76\n",
      "          34       0.07      0.04      0.05        85\n",
      "          35       0.00      0.00      0.00        71\n",
      "          36       0.00      0.00      0.00        79\n",
      "          37       0.00      0.00      0.00       114\n",
      "          38       0.00      0.00      0.00       115\n",
      "          39       0.06      0.52      0.10       129\n",
      "          40       0.00      0.00      0.00       113\n",
      "          41       0.00      0.00      0.00       127\n",
      "          42       0.05      0.15      0.08       162\n",
      "          43       0.00      0.00      0.00       146\n",
      "          44       0.00      0.00      0.00       179\n",
      "          45       0.00      0.00      0.00       156\n",
      "          46       0.06      0.17      0.09       219\n",
      "          47       0.05      0.07      0.06       219\n",
      "          48       0.00      0.00      0.00       207\n",
      "          49       0.04      0.67      0.08       247\n",
      "          50       0.00      0.00      0.00       181\n",
      "          51       0.00      0.00      0.00       185\n",
      "          52       0.00      0.00      0.00       188\n",
      "          53       0.01      0.01      0.01       174\n",
      "          54       0.03      0.20      0.06       143\n",
      "          55       0.00      0.00      0.00       146\n",
      "          56       0.00      0.00      0.00       151\n",
      "          57       0.00      0.00      0.00       136\n",
      "          58       0.00      0.00      0.00       129\n",
      "          59       0.00      0.00      0.00       149\n",
      "          60       0.00      0.00      0.00       124\n",
      "          61       0.00      0.00      0.00       132\n",
      "          62       0.00      0.00      0.00       119\n",
      "          63       0.00      0.00      0.00        86\n",
      "          64       0.00      0.00      0.00       114\n",
      "          65       0.00      0.00      0.00       116\n",
      "          66       0.00      0.00      0.00       114\n",
      "          67       0.00      0.00      0.00       105\n",
      "          68       0.00      0.00      0.00       102\n",
      "          69       0.00      0.00      0.00        86\n",
      "          70       0.00      0.00      0.00        88\n",
      "          71       0.00      0.00      0.00        78\n",
      "          72       0.00      0.00      0.00        67\n",
      "          73       0.00      0.00      0.00        95\n",
      "          74       0.00      0.00      0.00        74\n",
      "          75       0.00      0.00      0.00        69\n",
      "          76       0.00      0.00      0.00        66\n",
      "          77       0.00      0.00      0.00        74\n",
      "          78       0.00      0.00      0.00        68\n",
      "          79       0.00      0.00      0.00        50\n",
      "          80       0.00      0.00      0.00        39\n",
      "          81       0.00      0.00      0.00        47\n",
      "          82       0.00      0.00      0.00        38\n",
      "          83       0.00      0.00      0.00        44\n",
      "          84       0.00      0.00      0.00        41\n",
      "          85       0.00      0.00      0.00        39\n",
      "          86       0.00      0.00      0.00        20\n",
      "          87       0.00      0.00      0.00        35\n",
      "          88       0.00      0.00      0.00        46\n",
      "          89       0.00      0.00      0.00        27\n",
      "          90       0.00      0.00      0.00        19\n",
      "          91       0.00      0.00      0.00        27\n",
      "          92       0.00      0.00      0.00        33\n",
      "          93       0.00      0.00      0.00        45\n",
      "          94       0.00      0.00      0.00        16\n",
      "          95       0.00      0.00      0.00        24\n",
      "          96       0.00      0.00      0.00        24\n",
      "          97       0.00      0.00      0.00        30\n",
      "          98       0.00      0.00      0.00        25\n",
      "          99       0.00      0.00      0.00        17\n",
      "         100       0.00      0.00      0.00        36\n",
      "         101       0.00      0.00      0.00        25\n",
      "         102       0.00      0.00      0.00        20\n",
      "         103       0.00      0.00      0.00        13\n",
      "         104       0.00      0.00      0.00        13\n",
      "         105       0.00      0.00      0.00        24\n",
      "         106       0.00      0.00      0.00        19\n",
      "         107       0.00      0.00      0.00        14\n",
      "         108       0.00      0.00      0.00        20\n",
      "         109       0.00      0.00      0.00         7\n",
      "         110       0.00      0.00      0.00        26\n",
      "         111       0.00      0.00      0.00         8\n",
      "         112       0.00      0.00      0.00        11\n",
      "         113       0.00      0.00      0.00        12\n",
      "         114       0.00      0.00      0.00         6\n",
      "         115       0.00      0.00      0.00        14\n",
      "         116       0.00      0.00      0.00        16\n",
      "         117       0.00      0.00      0.00         8\n",
      "         118       0.00      0.00      0.00         4\n",
      "         119       0.00      0.00      0.00        13\n",
      "         120       0.00      0.00      0.00        14\n",
      "         121       0.00      0.00      0.00         9\n",
      "         122       0.00      0.00      0.00         8\n",
      "         123       0.00      0.00      0.00        12\n",
      "         124       0.00      0.00      0.00         4\n",
      "         125       0.00      0.00      0.00        12\n",
      "         126       0.00      0.00      0.00         4\n",
      "         127       0.00      0.00      0.00         5\n",
      "         128       0.00      0.00      0.00         6\n",
      "         129       0.00      0.00      0.00        11\n",
      "         130       0.00      0.00      0.00         8\n",
      "         131       0.00      0.00      0.00         4\n",
      "         132       0.00      0.00      0.00         6\n",
      "         133       0.00      0.00      0.00         5\n",
      "         134       0.00      0.00      0.00         6\n",
      "         135       0.00      0.00      0.00        10\n",
      "         136       0.00      0.00      0.00         3\n",
      "         137       0.00      0.00      0.00         5\n",
      "         138       0.00      0.00      0.00         9\n",
      "         139       0.00      0.00      0.00         4\n",
      "         140       0.00      0.00      0.00         5\n",
      "         141       0.00      0.00      0.00        12\n",
      "         142       0.00      0.00      0.00         5\n",
      "         143       0.00      0.00      0.00         3\n",
      "         144       0.00      0.00      0.00         2\n",
      "         145       0.00      0.00      0.00         3\n",
      "         146       0.00      0.00      0.00         3\n",
      "         147       0.00      0.00      0.00         1\n",
      "         148       0.00      0.00      0.00         1\n",
      "         149       0.00      0.00      0.00         2\n",
      "         150       0.00      0.00      0.00         4\n",
      "         151       0.00      0.00      0.00         3\n",
      "         152       0.00      0.00      0.00         3\n",
      "         153       0.00      0.00      0.00         6\n",
      "         154       0.00      0.00      0.00         6\n",
      "         156       0.00      0.00      0.00         3\n",
      "         157       0.00      0.00      0.00         1\n",
      "         158       0.00      0.00      0.00         2\n",
      "         159       0.00      0.00      0.00         4\n",
      "         160       0.00      0.00      0.00         4\n",
      "         161       0.00      0.00      0.00         2\n",
      "         162       0.00      0.00      0.00         2\n",
      "         163       0.00      0.00      0.00         3\n",
      "         164       0.00      0.00      0.00         5\n",
      "         166       0.00      0.00      0.00         6\n",
      "         167       0.00      0.00      0.00         2\n",
      "         168       0.00      0.00      0.00         4\n",
      "         169       0.00      0.00      0.00         7\n",
      "         170       0.00      0.00      0.00         4\n",
      "         171       0.00      0.00      0.00         2\n",
      "         172       0.00      0.00      0.00         2\n",
      "         173       0.00      0.00      0.00         3\n",
      "         174       0.00      0.00      0.00         1\n",
      "         176       0.00      0.00      0.00         2\n",
      "         177       0.00      0.00      0.00         2\n",
      "         178       0.00      0.00      0.00         2\n",
      "         179       0.00      0.00      0.00         1\n",
      "         180       0.00      0.00      0.00         1\n",
      "         181       0.00      0.00      0.00         2\n",
      "         182       0.00      0.00      0.00         3\n",
      "         183       0.00      0.00      0.00         1\n",
      "         184       0.00      0.00      0.00         3\n",
      "         186       0.00      0.00      0.00         3\n",
      "         187       0.00      0.00      0.00         1\n",
      "         188       0.00      0.00      0.00         1\n",
      "         189       0.00      0.00      0.00         2\n",
      "         190       0.00      0.00      0.00         1\n",
      "         193       0.00      0.00      0.00         1\n",
      "         194       0.00      0.00      0.00         4\n",
      "         195       0.00      0.00      0.00         2\n",
      "         197       0.00      0.00      0.00         1\n",
      "         198       0.00      0.00      0.00         2\n",
      "         199       0.00      0.00      0.00         1\n",
      "         201       0.00      0.00      0.00         2\n",
      "         202       0.00      0.00      0.00         1\n",
      "         204       0.00      0.00      0.00         1\n",
      "         205       0.00      0.00      0.00         2\n",
      "         206       0.00      0.00      0.00         2\n",
      "         207       0.00      0.00      0.00         1\n",
      "         208       0.00      0.00      0.00         1\n",
      "         209       0.00      0.00      0.00         1\n",
      "         211       0.00      0.00      0.00         1\n",
      "         215       0.00      0.00      0.00         1\n",
      "         220       0.00      0.00      0.00         2\n",
      "         221       0.00      0.00      0.00         1\n",
      "         228       0.00      0.00      0.00         1\n",
      "         230       0.00      0.00      0.00         1\n",
      "         235       0.00      0.00      0.00         3\n",
      "         236       0.00      0.00      0.00         1\n",
      "         237       0.00      0.00      0.00         2\n",
      "         241       0.00      0.00      0.00         1\n",
      "         243       0.00      0.00      0.00         1\n",
      "         244       0.00      0.00      0.00         2\n",
      "         245       0.00      0.00      0.00         1\n",
      "         246       0.00      0.00      0.00         2\n",
      "         248       0.00      0.00      0.00         1\n",
      "         249       0.00      0.00      0.00         1\n",
      "         253       0.00      0.00      0.00         1\n",
      "         255       0.00      0.00      0.00         1\n",
      "         256       0.00      0.00      0.00         2\n",
      "         264       0.00      0.00      0.00         1\n",
      "         265       0.00      0.00      0.00         1\n",
      "         266       0.00      0.00      0.00         1\n",
      "         281       0.00      0.00      0.00         1\n",
      "         284       0.00      0.00      0.00         1\n",
      "         287       0.00      0.00      0.00         2\n",
      "         288       0.00      0.00      0.00         1\n",
      "         289       0.00      0.00      0.00         1\n",
      "         291       0.00      0.00      0.00         2\n",
      "         294       0.00      0.00      0.00         1\n",
      "         301       0.00      0.00      0.00         1\n",
      "         306       0.00      0.00      0.00         2\n",
      "         311       0.00      0.00      0.00         1\n",
      "         325       0.00      0.00      0.00         2\n",
      "         330       0.00      0.00      0.00         1\n",
      "         332       0.00      0.00      0.00         2\n",
      "         334       0.00      0.00      0.00         1\n",
      "         363       0.00      0.00      0.00         1\n",
      "         371       0.00      0.00      0.00         1\n",
      "         395       0.00      0.00      0.00         1\n",
      "         415       0.00      0.00      0.00         1\n",
      "         432       0.00      0.00      0.00         1\n",
      "         448       0.00      0.00      0.00         1\n",
      "         453       0.00      0.00      0.00         1\n",
      "         517       0.00      0.00      0.00         1\n",
      "         590       0.00      0.00      0.00         1\n",
      "         603       0.00      0.00      0.00         1\n",
      "        1000       0.00      0.00      0.00         1\n",
      "\n",
      "    accuracy                           0.05      7537\n",
      "   macro avg       0.00      0.01      0.00      7537\n",
      "weighted avg       0.01      0.05      0.01      7537\n",
      "\n"
     ]
    }
   ],
   "source": [
    "acc_svm1 = accuracy_score(y_test, y_pred_svm)\n",
    "print(f\"Accuracy Score of SVM is : {acc_svm1}\")\n",
    "clf_report = classification_report(y_test, y_pred_svm)\n",
    "print(f\"Classification Report : \\n{clf_report}\")"
   ]
  },
  {
   "attachments": {},
   "cell_type": "markdown",
   "id": "7a7253fb",
   "metadata": {
    "papermill": {
     "duration": 0.006731,
     "end_time": "2023-02-09T12:30:19.435429",
     "exception": false,
     "start_time": "2023-02-09T12:30:19.428698",
     "status": "completed"
    },
    "tags": []
   },
   "source": [
    "Let's see how good the model is working"
   ]
  },
  {
   "cell_type": "code",
   "execution_count": 46,
   "id": "4fdccf60",
   "metadata": {
    "execution": {
     "iopub.execute_input": "2023-02-09T12:30:19.451210Z",
     "iopub.status.busy": "2023-02-09T12:30:19.450771Z",
     "iopub.status.idle": "2023-02-09T12:30:19.479262Z",
     "shell.execute_reply": "2023-02-09T12:30:19.478137Z"
    },
    "papermill": {
     "duration": 0.039423,
     "end_time": "2023-02-09T12:30:19.481800",
     "exception": false,
     "start_time": "2023-02-09T12:30:19.442377",
     "status": "completed"
    },
    "tags": []
   },
   "outputs": [
    {
     "data": {
      "text/html": [
       "<div>\n",
       "<style scoped>\n",
       "    .dataframe tbody tr th:only-of-type {\n",
       "        vertical-align: middle;\n",
       "    }\n",
       "\n",
       "    .dataframe tbody tr th {\n",
       "        vertical-align: top;\n",
       "    }\n",
       "\n",
       "    .dataframe thead th {\n",
       "        text-align: right;\n",
       "    }\n",
       "</style>\n",
       "<table border=\"1\" class=\"dataframe\">\n",
       "  <thead>\n",
       "    <tr style=\"text-align: right;\">\n",
       "      <th></th>\n",
       "      <th>Predict</th>\n",
       "      <th>Label</th>\n",
       "    </tr>\n",
       "  </thead>\n",
       "  <tbody>\n",
       "    <tr>\n",
       "      <th>4093</th>\n",
       "      <td>59</td>\n",
       "      <td>188</td>\n",
       "    </tr>\n",
       "    <tr>\n",
       "      <th>22310</th>\n",
       "      <td>39</td>\n",
       "      <td>33</td>\n",
       "    </tr>\n",
       "    <tr>\n",
       "      <th>8034</th>\n",
       "      <td>59</td>\n",
       "      <td>62</td>\n",
       "    </tr>\n",
       "    <tr>\n",
       "      <th>35027</th>\n",
       "      <td>59</td>\n",
       "      <td>49</td>\n",
       "    </tr>\n",
       "    <tr>\n",
       "      <th>23685</th>\n",
       "      <td>59</td>\n",
       "      <td>69</td>\n",
       "    </tr>\n",
       "    <tr>\n",
       "      <th>268</th>\n",
       "      <td>49</td>\n",
       "      <td>56</td>\n",
       "    </tr>\n",
       "    <tr>\n",
       "      <th>35261</th>\n",
       "      <td>39</td>\n",
       "      <td>46</td>\n",
       "    </tr>\n",
       "    <tr>\n",
       "      <th>11905</th>\n",
       "      <td>59</td>\n",
       "      <td>78</td>\n",
       "    </tr>\n",
       "    <tr>\n",
       "      <th>30903</th>\n",
       "      <td>59</td>\n",
       "      <td>82</td>\n",
       "    </tr>\n",
       "    <tr>\n",
       "      <th>608</th>\n",
       "      <td>59</td>\n",
       "      <td>415</td>\n",
       "    </tr>\n",
       "  </tbody>\n",
       "</table>\n",
       "</div>"
      ],
      "text/plain": [
       "       Predict  Label\n",
       "4093        59    188\n",
       "22310       39     33\n",
       "8034        59     62\n",
       "35027       59     49\n",
       "23685       59     69\n",
       "268         49     56\n",
       "35261       39     46\n",
       "11905       59     78\n",
       "30903       59     82\n",
       "608         59    415"
      ]
     },
     "execution_count": 46,
     "metadata": {},
     "output_type": "execute_result"
    }
   ],
   "source": [
    "#Let's see some sample prediction and difference between label and prediction\n",
    "sme_data=x_test.iloc[50:60]\n",
    "sme_data_label=y_test.iloc[50:60]\n",
    "sme_predict=dtc.predict(sme_data)\n",
    "pd.DataFrame({'Predict':sme_predict,'Label':sme_data_label})"
   ]
  },
  {
   "cell_type": "code",
   "execution_count": 47,
   "id": "401c8135",
   "metadata": {},
   "outputs": [
    {
     "data": {
      "text/plain": [
       "array([49])"
      ]
     },
     "execution_count": 47,
     "metadata": {},
     "output_type": "execute_result"
    }
   ],
   "source": [
    "#features = [[\"ForecastWindProduction\", \"SystemLoadEA\", \"SMPEA\", \"ORKTemperature\", \"ORKWindspeed\", \"CO2Intensity\", \"ActualWindProduction\", \"SystemLoadEP2\"]]\n",
    "features = np.array([[54.10, 4241.05, 49.56, 8.0, 13.8, 491.32, 54.0, 4426.84]])\n",
    "dtc.predict(features)"
   ]
  },
  {
   "cell_type": "code",
   "execution_count": null,
   "id": "fec04fed",
   "metadata": {},
   "outputs": [],
   "source": []
  }
 ],
 "metadata": {
  "kernelspec": {
   "display_name": "Python 3 (ipykernel)",
   "language": "python",
   "name": "python3"
  },
  "language_info": {
   "codemirror_mode": {
    "name": "ipython",
    "version": 3
   },
   "file_extension": ".py",
   "mimetype": "text/x-python",
   "name": "python",
   "nbconvert_exporter": "python",
   "pygments_lexer": "ipython3",
   "version": "3.10.6"
  },
  "papermill": {
   "default_parameters": {},
   "duration": 36.555253,
   "end_time": "2023-02-09T12:30:20.312195",
   "environment_variables": {},
   "exception": null,
   "input_path": "__notebook__.ipynb",
   "output_path": "__notebook__.ipynb",
   "parameters": {},
   "start_time": "2023-02-09T12:29:43.756942",
   "version": "2.3.4"
  },
  "varInspector": {
   "cols": {
    "lenName": 16,
    "lenType": 16,
    "lenVar": 40
   },
   "kernels_config": {
    "python": {
     "delete_cmd_postfix": "",
     "delete_cmd_prefix": "del ",
     "library": "var_list.py",
     "varRefreshCmd": "print(var_dic_list())"
    },
    "r": {
     "delete_cmd_postfix": ") ",
     "delete_cmd_prefix": "rm(",
     "library": "var_list.r",
     "varRefreshCmd": "cat(var_dic_list()) "
    }
   },
   "types_to_exclude": [
    "module",
    "function",
    "builtin_function_or_method",
    "instance",
    "_Feature"
   ],
   "window_display": false
  }
 },
 "nbformat": 4,
 "nbformat_minor": 5
}
